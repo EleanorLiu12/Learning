{
 "cells": [
  {
   "cell_type": "code",
   "execution_count": null,
   "metadata": {},
   "outputs": [],
   "source": []
  },
  {
   "cell_type": "markdown",
   "metadata": {},
   "source": [
    "### git pull"
   ]
  },
  {
   "cell_type": "markdown",
   "metadata": {},
   "source": [
    "#### git stash + git pull + git stach pop"
   ]
  },
  {
   "cell_type": "markdown",
   "metadata": {},
   "source": [
    "\n",
    "\n",
    "Avoid conflicts by **temporarily storing uncommitted local changes** with **git stash**. \n",
    "\n",
    "You then perform the git pull to fetch and merge the latest changes from the remote repository. Once the pull is complete, you **retrieve your local changes** using **git stash** pop, which **reapplies them on top of the latest updates**. \n",
    "\n",
    "If there are conflicts, they will be handled at this stage, but you’ve now updated your local repository first, reducing the risk of merge issues.\n",
    "\n",
    "Safer for **unfinished work**."
   ]
  },
  {
   "cell_type": "markdown",
   "metadata": {},
   "source": [
    "When to Use git stash + git pull + git stash pop:\n",
    "\n",
    "You have **uncommitted changes** that you aren’t ready to commit, but you need to pull updates from the remote.\n",
    "\n",
    "You prefer not to rewrite history, especially in **collaborative** environments.\n",
    "\n",
    "You don’t mind creating a merge commit to reflect the integration of remote changes with your local work"
   ]
  },
  {
   "cell_type": "markdown",
   "metadata": {},
   "source": [
    "#### git pull --rebase"
   ]
  },
  {
   "cell_type": "markdown",
   "metadata": {},
   "source": [
    "Pull the latest changes from the remote repository and **applies your local changes on top of the fetched changes** by rebasing. \n",
    "\n",
    "**Avoid creating a merge commit**, keeping the history **linear**."
   ]
  },
  {
   "cell_type": "markdown",
   "metadata": {},
   "source": [
    "When to Use git pull --rebase:\n",
    "\n",
    "You have committed changes and want to keep a clean, linear history.\n",
    "\n",
    "You are working **solo** or on a branch where rewriting history **won’t affect others**.\n",
    "\n",
    "You want to avoid the clutter of merge commits."
   ]
  },
  {
   "cell_type": "markdown",
   "metadata": {},
   "source": []
  }
 ],
 "metadata": {
  "language_info": {
   "name": "python"
  }
 },
 "nbformat": 4,
 "nbformat_minor": 2
}
