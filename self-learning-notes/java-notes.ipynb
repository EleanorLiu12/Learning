{
 "cells": [
  {
   "cell_type": "markdown",
   "metadata": {},
   "source": [
    "## Special Methods"
   ]
  },
  {
   "cell_type": "markdown",
   "metadata": {},
   "source": [
    "#### HashMap"
   ]
  },
  {
   "cell_type": "markdown",
   "metadata": {},
   "source": [
    "#### getOrDefault(int num, 0)"
   ]
  },
  {
   "cell_type": "code",
   "execution_count": 1,
   "metadata": {
    "vscode": {
     "languageId": "java"
    }
   },
   "outputs": [
    {
     "data": {
      "text/plain": [
       "{ =4, p=2, a=3, c=1, d=1, h=2, i=2, y=1, l=1, m=1}"
      ]
     },
     "execution_count": 1,
     "metadata": {},
     "output_type": "execute_result"
    }
   ],
   "source": [
    "HashMap<Character, Integer> letterCount = new HashMap<>();\n",
    "String t = \"i am a happy child\";\n",
    "\n",
    "for (int i = 0; i < t.length(); i++) {\n",
    "    char c = t.charAt(i);\n",
    "    letterCount.put(c, letterCount.getOrDefault(c, 0) + 1);\n",
    "}\n",
    "\n",
    "letterCount"
   ]
  },
  {
   "cell_type": "markdown",
   "metadata": {},
   "source": [
    "#### Linked List"
   ]
  },
  {
   "cell_type": "markdown",
   "metadata": {},
   "source": [
    "##### createLinkedList(array)"
   ]
  },
  {
   "cell_type": "markdown",
   "metadata": {},
   "source": [
    "// 创建一条单链表\n",
    "``` \n",
    "ListNode head = createLinkedList(new int[]{1, 2, 3, 4, 5}); "
   ]
  },
  {
   "cell_type": "markdown",
   "metadata": {},
   "source": [
    "#### Character"
   ]
  },
  {
   "cell_type": "markdown",
   "metadata": {},
   "source": [
    "##### Character.isDigit()\n",
    "\n",
    "To determine whether a character is a digit (0 - 9)"
   ]
  },
  {
   "cell_type": "code",
   "execution_count": 16,
   "metadata": {
    "vscode": {
     "languageId": "java"
    }
   },
   "outputs": [
    {
     "data": {
      "text/plain": [
       "true"
      ]
     },
     "execution_count": 16,
     "metadata": {},
     "output_type": "execute_result"
    }
   ],
   "source": [
    "Character.isDigit('6');"
   ]
  },
  {
   "cell_type": "code",
   "execution_count": 17,
   "metadata": {
    "vscode": {
     "languageId": "java"
    }
   },
   "outputs": [
    {
     "data": {
      "text/plain": [
       "false"
      ]
     },
     "execution_count": 17,
     "metadata": {},
     "output_type": "execute_result"
    }
   ],
   "source": [
    "Character.isDigit('k');"
   ]
  },
  {
   "cell_type": "markdown",
   "metadata": {},
   "source": [
    "\n",
    "##### s.charAt(i) - '0'\n",
    "\n",
    "To convert a character (e.g., '1', '2', etc.) into its corresponding integer value (characters are represented by ASCII or Unicode values in Java). "
   ]
  },
  {
   "cell_type": "code",
   "execution_count": 18,
   "metadata": {
    "vscode": {
     "languageId": "java"
    }
   },
   "outputs": [
    {
     "data": {
      "text/plain": [
       "2"
      ]
     },
     "execution_count": 18,
     "metadata": {},
     "output_type": "execute_result"
    }
   ],
   "source": [
    "String s = \"233\";\n",
    "int ans = s.charAt(0) - '0';\n",
    "ans // expected: 2"
   ]
  },
  {
   "cell_type": "markdown",
   "metadata": {},
   "source": [
    "## Data Structure\n",
    "\n"
   ]
  },
  {
   "cell_type": "markdown",
   "metadata": {},
   "source": [
    "### Deque (Double-Ended Queue)\n"
   ]
  },
  {
   "cell_type": "markdown",
   "metadata": {},
   "source": [
    "A deque (pronounced \"deck\") is a linear data structure that allows insertion and removal of elements from **both ends**.\n",
    "\n",
    "Deque can be used as both a **queue** (FIFO) and a **stack** (LIFO).\n",
    "\n",
    "From: LC 316 - Remove Duplicate Letters"
   ]
  },
  {
   "cell_type": "markdown",
   "metadata": {},
   "source": [
    "#### Insertion/Removal/Access Operations\n"
   ]
  },
  {
   "cell_type": "code",
   "execution_count": 19,
   "metadata": {
    "vscode": {
     "languageId": "java"
    }
   },
   "outputs": [],
   "source": [
    "Deque<Integer> stack = new ArrayDeque<>();"
   ]
  },
  {
   "cell_type": "markdown",
   "metadata": {
    "vscode": {
     "languageId": "java"
    }
   },
   "source": [
    "**addFirst(E e) / offerFirst(E e)**\n",
    "\n",
    "**addLast(E e) / offerLast(E e)**\n",
    "\n",
    "Inserts the element e at the front/end of the deque.\n",
    "\n",
    "addFirst()/addLast() throws an exception if the deque is full, while offerFirst()/offerLast() returns false.\n",
    "\n"
   ]
  },
  {
   "cell_type": "code",
   "execution_count": 20,
   "metadata": {
    "vscode": {
     "languageId": "java"
    }
   },
   "outputs": [
    {
     "data": {
      "text/plain": [
       "[1, 2, 8, 9]"
      ]
     },
     "execution_count": 20,
     "metadata": {},
     "output_type": "execute_result"
    }
   ],
   "source": [
    "stack.addFirst(2);\n",
    "stack.offerFirst(1);\n",
    "stack.addLast(8);\n",
    "stack.offerLast(9);\n",
    "stack"
   ]
  },
  {
   "cell_type": "markdown",
   "metadata": {
    "vscode": {
     "languageId": "java"
    }
   },
   "source": [
    "**removeFirst() / pollFirst()**\n",
    "\n",
    "**removeLast() / pollLast()**\n",
    "\n",
    "Removes and returns the element at the front/end of the deque.\n",
    "\n",
    "removeFirst()/removeLast() throws an exception if the deque is empty, while pollFirst()/pollLast() returns null"
   ]
  },
  {
   "cell_type": "code",
   "execution_count": 21,
   "metadata": {
    "vscode": {
     "languageId": "java"
    }
   },
   "outputs": [
    {
     "data": {
      "text/plain": [
       "[2, 8]"
      ]
     },
     "execution_count": 21,
     "metadata": {},
     "output_type": "execute_result"
    }
   ],
   "source": [
    "stack.removeFirst();\n",
    "stack.removeLast();\n",
    "stack"
   ]
  },
  {
   "cell_type": "code",
   "execution_count": 22,
   "metadata": {
    "vscode": {
     "languageId": "java"
    }
   },
   "outputs": [
    {
     "data": {
      "text/plain": [
       "[]"
      ]
     },
     "execution_count": 22,
     "metadata": {},
     "output_type": "execute_result"
    }
   ],
   "source": [
    "stack.pollFirst();\n",
    "stack.pollLast();\n",
    "stack"
   ]
  },
  {
   "cell_type": "markdown",
   "metadata": {},
   "source": [
    "**getFirst() / peekFirst()**\n",
    "\n",
    "**getFirst() / getLast()**"
   ]
  },
  {
   "cell_type": "markdown",
   "metadata": {},
   "source": [
    "#### Other Operations"
   ]
  },
  {
   "cell_type": "markdown",
   "metadata": {},
   "source": [
    "**size()**: Returns the number of elements in the deque.\n",
    "\n",
    "**isEmpty()**: Checks if the deque is empty.\n",
    "\n",
    "**contains(Object o)**: Checks if the deque contains the specified element.\n",
    "\n",
    "**iterator() / descendingIterator()**: Returns an iterator over the elements in the deque. iterator() traverses from front to back, while descendingIterator() traverses from back to front."
   ]
  },
  {
   "cell_type": "markdown",
   "metadata": {},
   "source": []
  },
  {
   "cell_type": "markdown",
   "metadata": {},
   "source": [
    "### Linked List"
   ]
  },
  {
   "cell_type": "markdown",
   "metadata": {},
   "source": [
    "删除结点1后，旧的头结点 1 的 next 指针依然指向着节点 2，这样会不会造成内存泄漏？\n",
    "\n",
    "不会的，这个节点 1 指向其他的节点是没关系的，**只要保证没有其他引用指向这个节点 1，它就能被垃圾回收器回收掉**。因为 Java 的垃圾回收的判断机制是看这个对象是否被别人引用，而并不会 care 这个对象是否还引用着别人\n",
    "\n",
    "当然，如果你非要显式把节点 1 的 next 指针置为 null，这是个很好的习惯，在其他场景中可能可以**避免指针错乱**的潜在问题。\n",
    "\n"
   ]
  },
  {
   "cell_type": "markdown",
   "metadata": {},
   "source": []
  }
 ],
 "metadata": {
  "kernelspec": {
   "display_name": "Java",
   "language": "java",
   "name": "java"
  },
  "language_info": {
   "codemirror_mode": "java",
   "file_extension": ".jshell",
   "mimetype": "text/x-java-source",
   "name": "Java",
   "pygments_lexer": "java",
   "version": "22.0.1+8-16"
  }
 },
 "nbformat": 4,
 "nbformat_minor": 2
}
